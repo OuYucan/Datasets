{
 "cells": [
  {
   "cell_type": "markdown",
   "id": "10d26d40",
   "metadata": {},
   "source": [
    "# 基础时间戳特征"
   ]
  },
  {
   "cell_type": "code",
   "execution_count": null,
   "id": "6c76c9e8",
   "metadata": {},
   "outputs": [],
   "source": [
    "# 1. 年\n",
    "df['year']    = df['date'].dt.year\n",
    "# 2. 月\n",
    "df['month']   = df['date'].dt.month\n",
    "# 3. 一年中的哪一周\n",
    "df['weekofyear']     = df['date'].dt.weekofyear\n",
    "# 4. 一天中的哪一天\n",
    "df['day_of_year'] = df['date'].dt.day_of_year\n",
    "# 5. 星期几\n",
    "df['weekday'] = df['date'].dt.day_of_week\n",
    "# 6. 小时\n",
    "df['hour']    = df['date'].dt.hour\n",
    "# 7. 分钟\n",
    "df['minute']  = df['date'].dt.minute\n",
    "# 8. 秒\n",
    "df['seconds'] = df['date'].dt.seconds"
   ]
  },
  {
   "cell_type": "markdown",
   "id": "63034169",
   "metadata": {},
   "source": [
    "# 02布尔Flag特征"
   ]
  },
  {
   "cell_type": "code",
   "execution_count": null,
   "id": "74b9655a",
   "metadata": {},
   "outputs": [],
   "source": [
    "df['weekday'] = df['date'].dt.day_of_week\n",
    "# 1. 是否是一年的开始\n",
    "df['is_year_start']    = df['date'].dt.is_year_start \n",
    "# 2. 是否是一个季度的开始\n",
    "df['is_quarter_start'] = df['date'].dt.is_quarter_start \n",
    "# 3. 是否是月初\n",
    "df['is_month_start']   = df['date'].dt.is_month_start \n",
    "# 4. 是否是月末\n",
    "df['is_month_end']     = df['date'].dt.is_month_end\n",
    "# 5. 是否是周末\n",
    "df['is_weekend']       = np.where(df['weekday'].isin([5,6]), 1,0)\n",
    "# 6. 是否是特殊节假日等\n",
    "special_days = ['2021.5.1','2021.10.1',...]\n",
    "df['isholiday'] = df['day'].isin(special_days)"
   ]
  },
  {
   "cell_type": "markdown",
   "id": "9df23d19",
   "metadata": {},
   "source": [
    "# 03时间差特征"
   ]
  },
  {
   "cell_type": "code",
   "execution_count": null,
   "id": "ac2aa822",
   "metadata": {},
   "outputs": [],
   "source": [
    "# 1. 距离年初的时间差\n",
    "df['day_to_year_start']  =  df['day'] - df['year_start']\n",
    "# 2. 距离周末的时间差\n",
    "df['day_to_weekend']     =  df['weekday'].apply(lambda x: 6-x if x<=5 else 0)\n",
    "# 3. 距离发薪日的时间差 \n",
    "df['day_to_paymentday']  =  df['paymentday'] - df['day']"
   ]
  }
 ],
 "metadata": {
  "kernelspec": {
   "display_name": "Python 3",
   "language": "python",
   "name": "python3"
  },
  "language_info": {
   "codemirror_mode": {
    "name": "ipython",
    "version": 3
   },
   "file_extension": ".py",
   "mimetype": "text/x-python",
   "name": "python",
   "nbconvert_exporter": "python",
   "pygments_lexer": "ipython3",
   "version": "3.9.5"
  },
  "latex_envs": {
   "LaTeX_envs_menu_present": true,
   "autoclose": false,
   "autocomplete": true,
   "bibliofile": "biblio.bib",
   "cite_by": "apalike",
   "current_citInitial": 1,
   "eqLabelWithNumbers": true,
   "eqNumInitial": 1,
   "hotkeys": {
    "equation": "Ctrl-E",
    "itemize": "Ctrl-I"
   },
   "labels_anchors": false,
   "latex_user_defs": false,
   "report_style_numbering": false,
   "user_envs_cfg": false
  },
  "toc": {
   "base_numbering": 1,
   "nav_menu": {},
   "number_sections": true,
   "sideBar": true,
   "skip_h1_title": false,
   "title_cell": "Table of Contents",
   "title_sidebar": "Contents",
   "toc_cell": false,
   "toc_position": {},
   "toc_section_display": true,
   "toc_window_display": false
  }
 },
 "nbformat": 4,
 "nbformat_minor": 5
}
