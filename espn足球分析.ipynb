{
 "cells": [
  {
   "cell_type": "code",
   "execution_count": 1,
   "id": "912beaf4",
   "metadata": {},
   "outputs": [],
   "source": [
    "import pandas as pd\n",
    "import os"
   ]
  },
  {
   "cell_type": "code",
   "execution_count": 2,
   "id": "e1e93e56",
   "metadata": {},
   "outputs": [
    {
     "name": "stdout",
     "output_type": "stream",
     "text": [
      " 驱动器 D 中的卷是 文件盘\n",
      " 卷的序列号是 341D-24A6\n",
      "\n",
      " D:\\DataSource\\espn 的目录\n",
      "\n",
      "2021/07/10  18:18    <DIR>          .\n",
      "2021/07/10  18:18    <DIR>          ..\n",
      "2021/07/10  18:18    <DIR>          .ipynb_checkpoints\n",
      "2021/07/10  14:36    <DIR>          Country\n",
      "2021/07/09  23:02           893,787 game_detailedComment.xlsx\n",
      "2021/07/09  23:02            15,902 game_info_df.xlsx\n",
      "2021/07/09  23:02           186,911 game_KeyComment.xlsx\n",
      "2021/07/09  23:02           106,671 game_last5.xlsx\n",
      "2021/07/09  23:02            31,617 game_match.xlsx\n",
      "2021/07/09  23:02           360,078 game_player.xlsx\n",
      "2021/07/09  23:02           173,490 game_playerlink.xlsx\n",
      "2021/07/09  23:02            52,076 game_recent5.xlsx\n",
      "2021/07/09  23:04            37,518 gameChair.xlsx\n",
      "2021/07/09  23:04           250,613 gameEvent.xlsx\n",
      "2021/07/09  23:04             8,198 gameInfo.xlsx\n",
      "2021/07/09  23:04            53,106 gameShow.xlsx\n",
      "2021/07/09  23:04            60,146 gameStory.xlsx\n",
      "2021/07/09  23:04            36,245 gameSub.xlsx\n",
      "2021/07/09  23:04            14,869 gameTeam.xlsx\n",
      "2021/07/09  23:06    <DIR>          python\n",
      "2021/07/10  18:18                72 Untitled.ipynb\n",
      "              16 个文件      2,281,299 字节\n",
      "               5 个目录 41,800,220,672 可用字节\n"
     ]
    }
   ],
   "source": [
    "ls"
   ]
  },
  {
   "cell_type": "code",
   "execution_count": 5,
   "id": "d094b09c",
   "metadata": {},
   "outputs": [],
   "source": [
    "game_detailedComment = pd.read_excel(\"./game_detailedComment.xlsx\",engine=\"openpyxl\")\n",
    "game_KeyComment = pd.read_excel(\"./game_KeyComment.xlsx\",engine=\"openpyxl\")\n",
    "game_info_df = pd.read_excel(\"./game_info_df.xlsx\",engine=\"openpyxl\")\n",
    "game_last5 = pd.read_excel(\"./game_last5.xlsx\",engine=\"openpyxl\")\n",
    "game_match = pd.read_excel(\"./game_match.xlsx\",engine=\"openpyxl\")\n",
    "game_playerlink = pd.read_excel(\"./game_playerlink.xlsx\",engine=\"openpyxl\")\n",
    "game_recent5 = pd.read_excel(\"./game_recent5.xlsx\",engine=\"openpyxl\")"
   ]
  },
  {
   "cell_type": "code",
   "execution_count": 6,
   "id": "170c6dd1",
   "metadata": {},
   "outputs": [
    {
     "data": {
      "text/plain": [
       "(35301, 3)"
      ]
     },
     "execution_count": 6,
     "metadata": {},
     "output_type": "execute_result"
    }
   ],
   "source": [
    "game_detailedComment.shape"
   ]
  },
  {
   "cell_type": "code",
   "execution_count": 11,
   "id": "51dc65b3",
   "metadata": {},
   "outputs": [
    {
     "data": {
      "text/plain": [
       "{'gameId': 0, 'timeStamp': 0, 'event': 0}"
      ]
     },
     "execution_count": 11,
     "metadata": {},
     "output_type": "execute_result"
    }
   ],
   "source": [
    "game_detailedComment.duplicated().sum()\n",
    "game_detailedComment.isnull().sum().to_dict()"
   ]
  },
  {
   "cell_type": "code",
   "execution_count": 13,
   "id": "d55ef456",
   "metadata": {},
   "outputs": [
    {
     "data": {
      "text/plain": [
       "1113"
      ]
     },
     "execution_count": 13,
     "metadata": {},
     "output_type": "execute_result"
    }
   ],
   "source": [
    "game_last5.duplicated().sum()"
   ]
  },
  {
   "cell_type": "code",
   "execution_count": 37,
   "id": "4c92fd28",
   "metadata": {},
   "outputs": [],
   "source": [
    "last5 = game_last5.drop_duplicates([\"AwayTeam\",\"HomeTeam\",\"Date\"],keep=\"first\")"
   ]
  },
  {
   "cell_type": "code",
   "execution_count": 38,
   "id": "af031bea",
   "metadata": {},
   "outputs": [
    {
     "data": {
      "text/plain": [
       "((3470, 6), (1906, 6))"
      ]
     },
     "execution_count": 38,
     "metadata": {},
     "output_type": "execute_result"
    }
   ],
   "source": [
    "game_last5.shape,last5.shape"
   ]
  },
  {
   "cell_type": "code",
   "execution_count": 39,
   "id": "06997f36",
   "metadata": {},
   "outputs": [
    {
     "data": {
      "text/plain": [
       "((3470, 6), (1906, 6))"
      ]
     },
     "execution_count": 39,
     "metadata": {},
     "output_type": "execute_result"
    }
   ],
   "source": [
    "game_last5.shape,last5.shape"
   ]
  },
  {
   "cell_type": "code",
   "execution_count": 40,
   "id": "e6abe9e7",
   "metadata": {},
   "outputs": [
    {
     "data": {
      "text/html": [
       "<div>\n",
       "<style scoped>\n",
       "    .dataframe tbody tr th:only-of-type {\n",
       "        vertical-align: middle;\n",
       "    }\n",
       "\n",
       "    .dataframe tbody tr th {\n",
       "        vertical-align: top;\n",
       "    }\n",
       "\n",
       "    .dataframe thead th {\n",
       "        text-align: right;\n",
       "    }\n",
       "</style>\n",
       "<table border=\"1\" class=\"dataframe\">\n",
       "  <thead>\n",
       "    <tr style=\"text-align: right;\">\n",
       "      <th></th>\n",
       "      <th>result</th>\n",
       "      <th>AwayTeam</th>\n",
       "      <th>score</th>\n",
       "      <th>HomeTeam</th>\n",
       "      <th>Date</th>\n",
       "      <th>Competition</th>\n",
       "    </tr>\n",
       "  </thead>\n",
       "  <tbody>\n",
       "    <tr>\n",
       "      <th>2283</th>\n",
       "      <td>D</td>\n",
       "      <td>AFC BournemouthBOU</td>\n",
       "      <td>2-2</td>\n",
       "      <td>West Ham UnitedWHU</td>\n",
       "      <td>2019-09-28</td>\n",
       "      <td>English Premier League</td>\n",
       "    </tr>\n",
       "    <tr>\n",
       "      <th>2029</th>\n",
       "      <td>W</td>\n",
       "      <td>ChelseaCHE</td>\n",
       "      <td>2-1</td>\n",
       "      <td>LilleLILL</td>\n",
       "      <td>2019-12-10</td>\n",
       "      <td>UEFA Champions League</td>\n",
       "    </tr>\n",
       "    <tr>\n",
       "      <th>2351</th>\n",
       "      <td>D</td>\n",
       "      <td>AZ AlkmaarAZ</td>\n",
       "      <td>0-0</td>\n",
       "      <td>Manchester UnitedMAN</td>\n",
       "      <td>2019-10-03</td>\n",
       "      <td>UEFA Europa League</td>\n",
       "    </tr>\n",
       "  </tbody>\n",
       "</table>\n",
       "</div>"
      ],
      "text/plain": [
       "     result            AwayTeam score              HomeTeam       Date  \\\n",
       "2283      D  AFC BournemouthBOU   2-2    West Ham UnitedWHU 2019-09-28   \n",
       "2029      W          ChelseaCHE   2-1             LilleLILL 2019-12-10   \n",
       "2351      D        AZ AlkmaarAZ   0-0  Manchester UnitedMAN 2019-10-03   \n",
       "\n",
       "                 Competition  \n",
       "2283  English Premier League  \n",
       "2029   UEFA Champions League  \n",
       "2351      UEFA Europa League  "
      ]
     },
     "execution_count": 40,
     "metadata": {},
     "output_type": "execute_result"
    }
   ],
   "source": [
    "last5.sample(3)"
   ]
  },
  {
   "cell_type": "code",
   "execution_count": 41,
   "id": "3a195787",
   "metadata": {},
   "outputs": [
    {
     "name": "stdout",
     "output_type": "stream",
     "text": [
      "L BarcelonaBAR 1-0 Real SociedadRSO 2018-05-20 Spanish Primera División\n",
      "L BarcelonaBAR 2-2 Tottenham HotspurTOT 2018-07-29 International Champions Cup\n",
      "L BarcelonaBAR 2-4 AS RomaROMA 2018-08-01 International Champions Cup\n",
      "L AC MilanMIL 1-0 BarcelonaBAR 2018-08-05 International Champions Cup\n",
      "W Sevilla FCSEV 1-2 BarcelonaBAR 2018-08-12 Spanish Supercopa\n",
      "W BarcelonaBAR 3-0 Boca JuniorsCABJ 2018-08-15 Trofeo Joan Gamper\n",
      "W BarcelonaBAR 3-0 AlavésALV 2018-08-18 Spanish Primera División\n",
      "W Real ValladolidVALL 0-1 BarcelonaBAR 2018-08-25 Spanish Primera División\n",
      "W BarcelonaBAR 8-2 HuescaHUE 2018-09-02 Spanish Primera División\n",
      "W BarcelonaBAR 4-0 PSV EindhovenPSV 2018-09-18 UEFA Champions League\n",
      "D BarcelonaBAR 2-2 GironaGIR 2018-09-23 Spanish Primera División\n",
      "L LeganésLEG 2-1 BarcelonaBAR 2018-09-26 Spanish Primera División\n",
      "D BarcelonaBAR 1-1 Athletic BilbaoATH 2018-09-29 Spanish Primera División\n",
      "L Tottenham HotspurTOT 2-4 BarcelonaBAR 2018-10-03 UEFA Champions League\n",
      "D ValenciaVAL 1-1 BarcelonaBAR 2018-10-07 Spanish Primera División\n",
      "W BarcelonaBAR 4-2 Sevilla FCSEV 2018-10-20 Spanish Primera División\n",
      "W BarcelonaBAR 2-0 InternazionaleINT 2018-10-24 UEFA Champions League\n",
      "W BarcelonaBAR 5-1 Real MadridMAD 2018-10-28 Spanish Primera División\n",
      "W Cultural LeonesaCLE 0-1 BarcelonaBAR 2018-10-31 Spanish Copa del Rey\n",
      "W Rayo VallecanoRAY 2-3 BarcelonaBAR 2018-11-03 Spanish Primera División\n",
      "D InternazionaleINT 1-1 BarcelonaBAR 2018-11-06 UEFA Champions League\n",
      "L BarcelonaBAR 3-4 Real BetisBET 2018-11-11 Spanish Primera División\n",
      "D Atletico MadridATL 1-1 BarcelonaBAR 2018-11-24 Spanish Primera División\n",
      "W PSV EindhovenPSV 1-2 BarcelonaBAR 2018-11-28 UEFA Champions League\n",
      "W BarcelonaBAR 2-0 VillarrealVILL 2018-12-02 Spanish Primera División\n",
      "W BarcelonaBAR 4-1 Cultural LeonesaCLE 2018-12-05 Spanish Copa del Rey\n",
      "D BarcelonaBAR 1-1 Tottenham HotspurTOT 2018-12-11 UEFA Champions League\n",
      "L LevanteLEV 2-1 BarcelonaBAR 2019-01-10 Spanish Copa del Rey\n",
      "L BarcelonaBAR 3-0 EibarEIB 2019-01-13 Spanish Primera División\n",
      "W BarcelonaBAR 3-0 LevanteLEV 2019-01-17 Spanish Copa del Rey\n",
      "W BarcelonaBAR 3-1 LeganésLEG 2019-01-20 Spanish Primera División\n",
      "W Sevilla FCSEV 2-0 BarcelonaBAR 2019-01-23 Spanish Copa del Rey\n",
      "L GironaGIR 0-2 BarcelonaBAR 2019-01-27 Spanish Primera División\n",
      "L BarcelonaBAR 6-1 Sevilla FCSEV 2019-01-30 Spanish Copa del Rey\n",
      "D BarcelonaBAR 1-1 Real MadridMAD 2019-02-06 Spanish Copa del Rey\n",
      "D Athletic BilbaoATH 0-0 BarcelonaBAR 2019-02-10 Spanish Primera División\n",
      "W BarcelonaBAR 1-0 Real ValladolidVALL 2019-02-16 Spanish Primera División\n",
      "D LyonLYON 0-0 BarcelonaBAR 2019-02-19 UEFA Champions League\n",
      "W Sevilla FCSEV 2-4 BarcelonaBAR 2019-02-23 Spanish Primera División\n",
      "W Real MadridMAD 0-3 BarcelonaBAR 2019-02-27 Spanish Copa del Rey\n",
      "W Real MadridMAD 0-1 BarcelonaBAR 2019-03-02 Spanish Primera División\n",
      "W BarcelonaBAR 3-1 Rayo VallecanoRAY 2019-03-09 Spanish Primera División\n",
      "W BarcelonaBAR 5-1 LyonLYON 2019-03-13 UEFA Champions League\n",
      "L Real BetisBET 1-4 BarcelonaBAR 2019-03-17 Spanish Primera División\n",
      "L BarcelonaBAR 2-0 Atletico MadridATL 2019-04-06 Spanish Primera División\n",
      "L Manchester UnitedMAN 0-1 BarcelonaBAR 2019-04-10 UEFA Champions League\n",
      "L BarcelonaBAR 3-0 Manchester UnitedMAN 2019-04-16 UEFA Champions League\n",
      "W AlavésALV 0-2 BarcelonaBAR 2019-04-23 Spanish Primera División\n",
      "W BarcelonaBAR 1-0 LevanteLEV 2019-04-27 Spanish Primera División\n",
      "L BarcelonaBAR 3-0 LiverpoolLIV 2019-05-01 UEFA Champions League\n",
      "L Celta VigoCEL 2-0 BarcelonaBAR 2019-05-04 Spanish Primera División\n",
      "W LiverpoolLIV 4-0 BarcelonaBAR 2019-05-07 UEFA Champions League\n",
      "L BarcelonaBAR 2-0 GetafeGET 2019-05-12 Spanish Primera División\n",
      "W Vissel KobeVIS 0-2 BarcelonaBAR 2019-07-27 Club Friendly\n",
      "W BarcelonaBAR 2-1 ArsenalARS 2019-08-04 Trofeo Joan Gamper\n",
      "W BarcelonaBAR 2-1 NapoliNAP 2019-08-07 Club Friendly\n",
      "W NapoliNAP 0-4 BarcelonaBAR 2019-08-10 Club Friendly\n",
      "L Athletic BilbaoATH 1-0 BarcelonaBAR 2019-08-16 Spanish Primera División\n",
      "W BarcelonaBAR 5-2 Real BetisBET 2019-08-25 Spanish Primera División\n",
      "D OsasunaOSA 2-2 BarcelonaBAR 2019-08-31 Spanish Primera División\n",
      "W BarcelonaBAR 5-2 ValenciaVAL 2019-09-14 Spanish Primera División\n",
      "D Borussia DortmundDOR 0-0 BarcelonaBAR 2019-09-17 UEFA Champions League\n",
      "L GranadaGCF 2-0 BarcelonaBAR 2019-09-21 Spanish Primera División\n",
      "W BarcelonaBAR 2-1 VillarrealVILL 2019-09-24 Spanish Primera División\n",
      "W GetafeGET 0-2 BarcelonaBAR 2019-09-28 Spanish Primera División\n",
      "W BarcelonaBAR 2-1 InternazionaleINT 2019-10-02 UEFA Champions League\n",
      "W BarcelonaBAR 4-0 Sevilla FCSEV 2019-10-06 Spanish Primera División\n",
      "W EibarEIB 0-3 BarcelonaBAR 2019-10-19 Spanish Primera División\n",
      "W Slavia PragueSLP 1-2 BarcelonaBAR 2019-10-23 UEFA Champions League\n",
      "L BarcelonaBAR 5-1 Real ValladolidVALL 2019-10-29 Spanish Primera División\n",
      "W BarcelonaBAR 3-1 Borussia DortmundDOR 2019-11-27 UEFA Champions League\n",
      "L Atletico MadridATL 0-1 BarcelonaBAR 2019-12-01 Spanish Primera División\n",
      "W BarcelonaBAR 5-2 MallorcaMAL 2019-12-07 Spanish Primera División\n",
      "W InternazionaleINT 1-2 BarcelonaBAR 2019-12-10 UEFA Champions League\n",
      "D Real SociedadRSO 2-2 BarcelonaBAR 2019-12-14 Spanish Primera División\n",
      "D BarcelonaBAR 0-0 Real MadridMAD 2019-12-18 Spanish Primera División\n",
      "W BarcelonaBAR 4-1 AlavésALV 2019-12-21 Spanish Primera División\n",
      "D EspanyolESP 2-2 BarcelonaBAR 2020-01-04 Spanish Primera División\n",
      "L BarcelonaBAR 2-3 Atletico MadridATL 2020-01-09 Spanish Supercopa\n",
      "W BarcelonaBAR 1-0 GranadaGCF 2020-01-19 Spanish Primera División\n",
      "W UD IbizaIBI 1-2 BarcelonaBAR 2020-01-22 Spanish Copa del Rey\n",
      "L ValenciaVAL 2-0 BarcelonaBAR 2020-01-25 Spanish Primera División\n",
      "W BarcelonaBAR 5-0 LeganésLEG 2020-01-30 Spanish Copa del Rey\n",
      "L BarcelonaBAR 2-1 LevanteLEV 2020-02-02 Spanish Primera División\n",
      "L Athletic BilbaoATH 1-0 BarcelonaBAR 2020-02-06 Spanish Copa del Rey\n",
      "L Real BetisBET 2-3 BarcelonaBAR 2020-02-09 Spanish Primera División\n",
      "W BarcelonaBAR 5-0 EibarEIB 2020-02-22 Spanish Primera División\n",
      "D NapoliNAP 1-1 BarcelonaBAR 2020-02-25 UEFA Champions League\n",
      "W Real MadridMAD 2-0 BarcelonaBAR 2020-03-01 Spanish Primera División\n",
      "L BarcelonaBAR 1-0 Real SociedadRSO 2020-03-07 Spanish Primera División\n",
      "W MallorcaMAL 0-4 BarcelonaBAR 2020-06-13 Spanish Primera División\n",
      "W BarcelonaBAR 2-0 LeganésLEG 2020-06-16 Spanish Primera División\n",
      "D Sevilla FCSEV 0-0 BarcelonaBAR 2020-06-19 Spanish Primera División\n",
      "W BarcelonaBAR 1-0 Athletic BilbaoATH 2020-06-23 Spanish Primera División\n",
      "D Celta VigoCEL 2-2 BarcelonaBAR 2020-06-27 Spanish Primera División\n",
      "D BarcelonaBAR 2-2 Atletico MadridATL 2020-06-30 Spanish Primera División\n",
      "L VillarrealVILL 1-4 BarcelonaBAR 2020-07-05 Spanish Primera División\n",
      "W Rayo VallecanoRAY 1-2 BarcelonaBAR 2021-01-27 Spanish Copa del Rey\n",
      "W BarcelonaBAR 2-1 Athletic BilbaoATH 2021-01-31 Spanish Primera División\n",
      "W GranadaGCF 3-5 BarcelonaBAR 2021-02-03 Spanish Copa del Rey\n",
      "W Real BetisBET 2-3 BarcelonaBAR 2021-02-07 Spanish Primera División\n",
      "L Sevilla FCSEV 2-0 BarcelonaBAR 2021-02-10 Spanish Copa del Rey\n",
      "W BarcelonaBAR 3-0 ElcheELC 2021-02-24 Spanish Primera División\n",
      "W Sevilla FCSEV 0-2 BarcelonaBAR 2021-02-27 Spanish Primera División\n",
      "W BarcelonaBAR 3-0 Sevilla FCSEV 2021-03-03 Spanish Copa del Rey\n",
      "W OsasunaOSA 0-2 BarcelonaBAR 2021-03-06 Spanish Primera División\n",
      "D Paris Saint-GermainPSG 1-1 BarcelonaBAR 2021-03-10 UEFA Champions League\n",
      "W BarcelonaBAR 4-1 HuescaHUE 2021-03-15 Spanish Primera División\n",
      "W Real SociedadRSO 1-6 BarcelonaBAR 2021-03-21 Spanish Primera División\n",
      "W BarcelonaBAR 1-0 Real ValladolidVALL 2021-04-05 Spanish Primera División\n",
      "L Real MadridMAD 2-1 BarcelonaBAR 2021-04-10 Spanish Primera División\n",
      "W Athletic BilbaoATH 0-4 BarcelonaBAR 2021-04-17 Spanish Copa del Rey\n",
      "W VillarrealVILL 1-2 BarcelonaBAR 2021-04-25 Spanish Primera División\n",
      "L BarcelonaBAR 1-2 GranadaGCF 2021-04-29 Spanish Primera División\n",
      "W ValenciaVAL 2-3 BarcelonaBAR 2021-05-02 Spanish Primera División\n",
      "D BarcelonaBAR 0-0 Atletico MadridATL 2021-05-08 Spanish Primera División\n",
      "D LevanteLEV 3-3 BarcelonaBAR 2021-05-11 Spanish Primera División\n",
      "L BarcelonaBAR 1-2 Celta VigoCEL 2021-05-16 Spanish Primera División\n"
     ]
    }
   ],
   "source": [
    "contain_mask = (last5[\"AwayTeam\"]=='BarcelonaBAR') | (last5[\"HomeTeam\"]=='BarcelonaBAR')\n",
    "for i in last5[contain_mask].sort_values(\"Date\").values:\n",
    "    print(*i[:-2],i[-2].date(),i[-1])\n"
   ]
  },
  {
   "cell_type": "markdown",
   "id": "3eaa57b3",
   "metadata": {},
   "source": [
    "## 更新胜负结果"
   ]
  },
  {
   "cell_type": "code",
   "execution_count": 45,
   "id": "e5a49c9f",
   "metadata": {},
   "outputs": [],
   "source": [
    "def RefreshResult(x):\n",
    "    List = list(map(int,x.split(\"-\")))\n",
    "    if len(List)!=2:\n",
    "        raise ValueError\n",
    "    if List[0] == List[1]:\n",
    "        return \"D\"\n",
    "    if List[0] > List[1]:\n",
    "        return \"W\"\n",
    "    if List[0] < List[1]:\n",
    "        return \"L\"\n",
    "    "
   ]
  },
  {
   "cell_type": "code",
   "execution_count": null,
   "id": "ff883b75",
   "metadata": {},
   "outputs": [],
   "source": [
    "length = last5.shape[0]\n",
    "for i in range(length):\n",
    "    \n",
    "    last5.loc[i,\"\"]"
   ]
  },
  {
   "cell_type": "code",
   "execution_count": 47,
   "id": "7fe415ab",
   "metadata": {},
   "outputs": [
    {
     "name": "stderr",
     "output_type": "stream",
     "text": [
      "<ipython-input-47-df4247419e36>:1: SettingWithCopyWarning: \n",
      "A value is trying to be set on a copy of a slice from a DataFrame.\n",
      "Try using .loc[row_indexer,col_indexer] = value instead\n",
      "\n",
      "See the caveats in the documentation: https://pandas.pydata.org/pandas-docs/stable/user_guide/indexing.html#returning-a-view-versus-a-copy\n",
      "  last5[\"result\"] = last5.score.apply(RefreshResult)\n"
     ]
    }
   ],
   "source": [
    "last5[\"result\"] = last5.score.apply(RefreshResult)"
   ]
  },
  {
   "cell_type": "code",
   "execution_count": 64,
   "id": "9e98b6da",
   "metadata": {},
   "outputs": [
    {
     "name": "stderr",
     "output_type": "stream",
     "text": [
      "e:\\software\\python\\lib\\site-packages\\pandas\\core\\frame.py:3191: SettingWithCopyWarning: \n",
      "A value is trying to be set on a copy of a slice from a DataFrame.\n",
      "Try using .loc[row_indexer,col_indexer] = value instead\n",
      "\n",
      "See the caveats in the documentation: https://pandas.pydata.org/pandas-docs/stable/user_guide/indexing.html#returning-a-view-versus-a-copy\n",
      "  self[k1] = value[k2]\n"
     ]
    }
   ],
   "source": [
    "last5[[\"HomeFull\",\"HomeAbbr\"]] = last5[\"HomeTeam\"].str.extract(\"(.*?)([A-Z]{2,})$\")"
   ]
  },
  {
   "cell_type": "code",
   "execution_count": 62,
   "id": "6887bd30",
   "metadata": {},
   "outputs": [
    {
     "name": "stderr",
     "output_type": "stream",
     "text": [
      "e:\\software\\python\\lib\\site-packages\\pandas\\core\\frame.py:3191: SettingWithCopyWarning: \n",
      "A value is trying to be set on a copy of a slice from a DataFrame.\n",
      "Try using .loc[row_indexer,col_indexer] = value instead\n",
      "\n",
      "See the caveats in the documentation: https://pandas.pydata.org/pandas-docs/stable/user_guide/indexing.html#returning-a-view-versus-a-copy\n",
      "  self[k1] = value[k2]\n"
     ]
    }
   ],
   "source": [
    "last5[[\"AwayFull\",\"AwayAbbr\"]] = last5[\"AwayTeam\"].str.extract(\"(.*?)([A-Z]{2,})$\")\n",
    "last5[[\"AwayScore\",\"HomeScore\"]] = last5[\"score\"].str.extract(\"(\\d+)-(\\d+)\")"
   ]
  },
  {
   "cell_type": "code",
   "execution_count": 78,
   "id": "e1310c5a",
   "metadata": {},
   "outputs": [
    {
     "data": {
      "text/html": [
       "<div>\n",
       "<style scoped>\n",
       "    .dataframe tbody tr th:only-of-type {\n",
       "        vertical-align: middle;\n",
       "    }\n",
       "\n",
       "    .dataframe tbody tr th {\n",
       "        vertical-align: top;\n",
       "    }\n",
       "\n",
       "    .dataframe thead th {\n",
       "        text-align: right;\n",
       "    }\n",
       "</style>\n",
       "<table border=\"1\" class=\"dataframe\">\n",
       "  <thead>\n",
       "    <tr style=\"text-align: right;\">\n",
       "      <th></th>\n",
       "      <th>result</th>\n",
       "      <th>AwayTeam</th>\n",
       "      <th>score</th>\n",
       "      <th>HomeTeam</th>\n",
       "      <th>Date</th>\n",
       "      <th>Competition</th>\n",
       "      <th>AwayAbbr</th>\n",
       "      <th>AwayFull</th>\n",
       "      <th>AwayScore</th>\n",
       "      <th>HomeScore</th>\n",
       "      <th>HomeFull</th>\n",
       "      <th>HomeAbbr</th>\n",
       "    </tr>\n",
       "  </thead>\n",
       "  <tbody>\n",
       "    <tr>\n",
       "      <th>1201</th>\n",
       "      <td>W</td>\n",
       "      <td>Real MadridMAD</td>\n",
       "      <td>4-1</td>\n",
       "      <td>Al-AinAlN</td>\n",
       "      <td>2018-12-22</td>\n",
       "      <td>FIFA Club World Cup</td>\n",
       "      <td>MAD</td>\n",
       "      <td>Real Madrid</td>\n",
       "      <td>4</td>\n",
       "      <td>1</td>\n",
       "      <td>NaN</td>\n",
       "      <td>NaN</td>\n",
       "    </tr>\n",
       "  </tbody>\n",
       "</table>\n",
       "</div>"
      ],
      "text/plain": [
       "     result        AwayTeam score   HomeTeam       Date          Competition  \\\n",
       "1201      W  Real MadridMAD   4-1  Al-AinAlN 2018-12-22  FIFA Club World Cup   \n",
       "\n",
       "     AwayAbbr     AwayFull AwayScore HomeScore HomeFull HomeAbbr  \n",
       "1201      MAD  Real Madrid         4         1      NaN      NaN  "
      ]
     },
     "execution_count": 78,
     "metadata": {},
     "output_type": "execute_result"
    }
   ],
   "source": [
    "last5[last5.HomeFull.isnull()]"
   ]
  },
  {
   "cell_type": "code",
   "execution_count": null,
   "id": "face6ce8",
   "metadata": {},
   "outputs": [],
   "source": [
    "\"Al-AinAlN\""
   ]
  },
  {
   "cell_type": "code",
   "execution_count": 75,
   "id": "06f9557d",
   "metadata": {},
   "outputs": [
    {
     "data": {
      "text/plain": [
       "result         0\n",
       "AwayTeam       0\n",
       "score          0\n",
       "HomeTeam       0\n",
       "Date           0\n",
       "Competition    0\n",
       "AwayAbbr       0\n",
       "AwayFull       0\n",
       "AwayScore      0\n",
       "HomeScore      0\n",
       "HomeFull       1\n",
       "HomeAbbr       1\n",
       "dtype: int64"
      ]
     },
     "execution_count": 75,
     "metadata": {},
     "output_type": "execute_result"
    }
   ],
   "source": [
    "last5.isnull().sum()"
   ]
  },
  {
   "cell_type": "code",
   "execution_count": 72,
   "id": "91a40955",
   "metadata": {},
   "outputs": [
    {
     "data": {
      "text/html": [
       "<div>\n",
       "<style scoped>\n",
       "    .dataframe tbody tr th:only-of-type {\n",
       "        vertical-align: middle;\n",
       "    }\n",
       "\n",
       "    .dataframe tbody tr th {\n",
       "        vertical-align: top;\n",
       "    }\n",
       "\n",
       "    .dataframe thead th {\n",
       "        text-align: right;\n",
       "    }\n",
       "</style>\n",
       "<table border=\"1\" class=\"dataframe\">\n",
       "  <thead>\n",
       "    <tr style=\"text-align: right;\">\n",
       "      <th></th>\n",
       "      <th>result</th>\n",
       "      <th>AwayTeam</th>\n",
       "      <th>score</th>\n",
       "      <th>HomeTeam</th>\n",
       "      <th>Date</th>\n",
       "      <th>Competition</th>\n",
       "      <th>AwayAbbr</th>\n",
       "      <th>AwayFull</th>\n",
       "      <th>AwayScore</th>\n",
       "      <th>HomeScore</th>\n",
       "      <th>HomeFull</th>\n",
       "      <th>HomeAbbr</th>\n",
       "    </tr>\n",
       "  </thead>\n",
       "  <tbody>\n",
       "    <tr>\n",
       "      <th>952</th>\n",
       "      <td>D</td>\n",
       "      <td>FC PortoPOR</td>\n",
       "      <td>0-0</td>\n",
       "      <td>Newcastle UnitedNEW</td>\n",
       "      <td>2018-07-28</td>\n",
       "      <td>Club Friendly</td>\n",
       "      <td>POR</td>\n",
       "      <td>FC Porto</td>\n",
       "      <td>0</td>\n",
       "      <td>0</td>\n",
       "      <td>Newcastle United</td>\n",
       "      <td>NEW</td>\n",
       "    </tr>\n",
       "    <tr>\n",
       "      <th>2094</th>\n",
       "      <td>W</td>\n",
       "      <td>FC AstanaAST</td>\n",
       "      <td>2-1</td>\n",
       "      <td>Manchester UnitedMAN</td>\n",
       "      <td>2019-11-28</td>\n",
       "      <td>UEFA Europa League</td>\n",
       "      <td>AST</td>\n",
       "      <td>FC Astana</td>\n",
       "      <td>2</td>\n",
       "      <td>1</td>\n",
       "      <td>Manchester United</td>\n",
       "      <td>MAN</td>\n",
       "    </tr>\n",
       "    <tr>\n",
       "      <th>2469</th>\n",
       "      <td>L</td>\n",
       "      <td>FC SalzburgSALZ</td>\n",
       "      <td>3-5</td>\n",
       "      <td>ChelseaCHE</td>\n",
       "      <td>2019-07-31</td>\n",
       "      <td>Club Friendly</td>\n",
       "      <td>SALZ</td>\n",
       "      <td>FC Salzburg</td>\n",
       "      <td>3</td>\n",
       "      <td>5</td>\n",
       "      <td>Chelsea</td>\n",
       "      <td>CHE</td>\n",
       "    </tr>\n",
       "    <tr>\n",
       "      <th>3018</th>\n",
       "      <td>L</td>\n",
       "      <td>FC SalzburgSALZ</td>\n",
       "      <td>0-1</td>\n",
       "      <td>Real MadridMAD</td>\n",
       "      <td>2019-08-07</td>\n",
       "      <td>Club Friendly</td>\n",
       "      <td>SALZ</td>\n",
       "      <td>FC Salzburg</td>\n",
       "      <td>0</td>\n",
       "      <td>1</td>\n",
       "      <td>Real Madrid</td>\n",
       "      <td>MAD</td>\n",
       "    </tr>\n",
       "    <tr>\n",
       "      <th>3267</th>\n",
       "      <td>D</td>\n",
       "      <td>FC PortoPOR</td>\n",
       "      <td>0-0</td>\n",
       "      <td>Manchester CityMNC</td>\n",
       "      <td>2020-12-02</td>\n",
       "      <td>UEFA Champions League</td>\n",
       "      <td>POR</td>\n",
       "      <td>FC Porto</td>\n",
       "      <td>0</td>\n",
       "      <td>0</td>\n",
       "      <td>Manchester City</td>\n",
       "      <td>MNC</td>\n",
       "    </tr>\n",
       "  </tbody>\n",
       "</table>\n",
       "</div>"
      ],
      "text/plain": [
       "     result         AwayTeam score              HomeTeam       Date  \\\n",
       "952       D      FC PortoPOR   0-0   Newcastle UnitedNEW 2018-07-28   \n",
       "2094      W     FC AstanaAST   2-1  Manchester UnitedMAN 2019-11-28   \n",
       "2469      L  FC SalzburgSALZ   3-5            ChelseaCHE 2019-07-31   \n",
       "3018      L  FC SalzburgSALZ   0-1        Real MadridMAD 2019-08-07   \n",
       "3267      D      FC PortoPOR   0-0    Manchester CityMNC 2020-12-02   \n",
       "\n",
       "                Competition AwayAbbr     AwayFull AwayScore HomeScore  \\\n",
       "952           Club Friendly      POR     FC Porto         0         0   \n",
       "2094     UEFA Europa League      AST    FC Astana         2         1   \n",
       "2469          Club Friendly     SALZ  FC Salzburg         3         5   \n",
       "3018          Club Friendly     SALZ  FC Salzburg         0         1   \n",
       "3267  UEFA Champions League      POR     FC Porto         0         0   \n",
       "\n",
       "               HomeFull HomeAbbr  \n",
       "952    Newcastle United      NEW  \n",
       "2094  Manchester United      MAN  \n",
       "2469            Chelsea      CHE  \n",
       "3018        Real Madrid      MAD  \n",
       "3267    Manchester City      MNC  "
      ]
     },
     "execution_count": 72,
     "metadata": {},
     "output_type": "execute_result"
    }
   ],
   "source": [
    "last5[last5[\"AwayTeam\"].str.startswith(\"FC\")]"
   ]
  },
  {
   "cell_type": "code",
   "execution_count": 49,
   "id": "802242dc",
   "metadata": {},
   "outputs": [
    {
     "data": {
      "text/html": [
       "<div>\n",
       "<style scoped>\n",
       "    .dataframe tbody tr th:only-of-type {\n",
       "        vertical-align: middle;\n",
       "    }\n",
       "\n",
       "    .dataframe tbody tr th {\n",
       "        vertical-align: top;\n",
       "    }\n",
       "\n",
       "    .dataframe thead th {\n",
       "        text-align: right;\n",
       "    }\n",
       "</style>\n",
       "<table border=\"1\" class=\"dataframe\">\n",
       "  <thead>\n",
       "    <tr style=\"text-align: right;\">\n",
       "      <th></th>\n",
       "      <th>result</th>\n",
       "      <th>AwayTeam</th>\n",
       "      <th>score</th>\n",
       "      <th>HomeTeam</th>\n",
       "      <th>Date</th>\n",
       "      <th>Competition</th>\n",
       "    </tr>\n",
       "  </thead>\n",
       "  <tbody>\n",
       "    <tr>\n",
       "      <th>0</th>\n",
       "      <td>L</td>\n",
       "      <td>Cardiff CityCAR</td>\n",
       "      <td>2-3</td>\n",
       "      <td>Crystal PalaceCRY</td>\n",
       "      <td>2019-05-04</td>\n",
       "      <td>English Premier League</td>\n",
       "    </tr>\n",
       "    <tr>\n",
       "      <th>1</th>\n",
       "      <td>D</td>\n",
       "      <td>Crystal PalaceCRY</td>\n",
       "      <td>0-0</td>\n",
       "      <td>EvertonEVE</td>\n",
       "      <td>2019-04-27</td>\n",
       "      <td>English Premier League</td>\n",
       "    </tr>\n",
       "    <tr>\n",
       "      <th>2</th>\n",
       "      <td>L</td>\n",
       "      <td>ArsenalARS</td>\n",
       "      <td>2-3</td>\n",
       "      <td>Crystal PalaceCRY</td>\n",
       "      <td>2019-04-21</td>\n",
       "      <td>English Premier League</td>\n",
       "    </tr>\n",
       "    <tr>\n",
       "      <th>3</th>\n",
       "      <td>L</td>\n",
       "      <td>Crystal PalaceCRY</td>\n",
       "      <td>1-3</td>\n",
       "      <td>Manchester CityMNC</td>\n",
       "      <td>2019-04-14</td>\n",
       "      <td>English Premier League</td>\n",
       "    </tr>\n",
       "    <tr>\n",
       "      <th>4</th>\n",
       "      <td>L</td>\n",
       "      <td>Newcastle UnitedNEW</td>\n",
       "      <td>0-1</td>\n",
       "      <td>Crystal PalaceCRY</td>\n",
       "      <td>2019-04-06</td>\n",
       "      <td>English Premier League</td>\n",
       "    </tr>\n",
       "    <tr>\n",
       "      <th>...</th>\n",
       "      <td>...</td>\n",
       "      <td>...</td>\n",
       "      <td>...</td>\n",
       "      <td>...</td>\n",
       "      <td>...</td>\n",
       "      <td>...</td>\n",
       "    </tr>\n",
       "    <tr>\n",
       "      <th>3458</th>\n",
       "      <td>L</td>\n",
       "      <td>AlavésALV</td>\n",
       "      <td>1-2</td>\n",
       "      <td>Sevilla FCSEV</td>\n",
       "      <td>2021-01-19</td>\n",
       "      <td>Spanish Primera División</td>\n",
       "    </tr>\n",
       "    <tr>\n",
       "      <th>3459</th>\n",
       "      <td>W</td>\n",
       "      <td>AlmeríaALM</td>\n",
       "      <td>5-0</td>\n",
       "      <td>AlavésALV</td>\n",
       "      <td>2021-01-16</td>\n",
       "      <td>Spanish Copa del Rey</td>\n",
       "    </tr>\n",
       "    <tr>\n",
       "      <th>3462</th>\n",
       "      <td>W</td>\n",
       "      <td>ElcheELC</td>\n",
       "      <td>2-1</td>\n",
       "      <td>Sevilla FCSEV</td>\n",
       "      <td>2021-03-06</td>\n",
       "      <td>Spanish Primera División</td>\n",
       "    </tr>\n",
       "    <tr>\n",
       "      <th>3467</th>\n",
       "      <td>W</td>\n",
       "      <td>GranadaGCF</td>\n",
       "      <td>2-1</td>\n",
       "      <td>ElcheELC</td>\n",
       "      <td>2021-02-28</td>\n",
       "      <td>Spanish Primera División</td>\n",
       "    </tr>\n",
       "    <tr>\n",
       "      <th>3469</th>\n",
       "      <td>W</td>\n",
       "      <td>ElcheELC</td>\n",
       "      <td>1-0</td>\n",
       "      <td>EibarEIB</td>\n",
       "      <td>2021-02-20</td>\n",
       "      <td>Spanish Primera División</td>\n",
       "    </tr>\n",
       "  </tbody>\n",
       "</table>\n",
       "<p>1906 rows × 6 columns</p>\n",
       "</div>"
      ],
      "text/plain": [
       "     result             AwayTeam score            HomeTeam       Date  \\\n",
       "0         L      Cardiff CityCAR   2-3   Crystal PalaceCRY 2019-05-04   \n",
       "1         D    Crystal PalaceCRY   0-0          EvertonEVE 2019-04-27   \n",
       "2         L           ArsenalARS   2-3   Crystal PalaceCRY 2019-04-21   \n",
       "3         L    Crystal PalaceCRY   1-3  Manchester CityMNC 2019-04-14   \n",
       "4         L  Newcastle UnitedNEW   0-1   Crystal PalaceCRY 2019-04-06   \n",
       "...     ...                  ...   ...                 ...        ...   \n",
       "3458      L            AlavésALV   1-2       Sevilla FCSEV 2021-01-19   \n",
       "3459      W           AlmeríaALM   5-0           AlavésALV 2021-01-16   \n",
       "3462      W             ElcheELC   2-1       Sevilla FCSEV 2021-03-06   \n",
       "3467      W           GranadaGCF   2-1            ElcheELC 2021-02-28   \n",
       "3469      W             ElcheELC   1-0            EibarEIB 2021-02-20   \n",
       "\n",
       "                   Competition  \n",
       "0       English Premier League  \n",
       "1       English Premier League  \n",
       "2       English Premier League  \n",
       "3       English Premier League  \n",
       "4       English Premier League  \n",
       "...                        ...  \n",
       "3458  Spanish Primera División  \n",
       "3459      Spanish Copa del Rey  \n",
       "3462  Spanish Primera División  \n",
       "3467  Spanish Primera División  \n",
       "3469  Spanish Primera División  \n",
       "\n",
       "[1906 rows x 6 columns]"
      ]
     },
     "execution_count": 49,
     "metadata": {},
     "output_type": "execute_result"
    }
   ],
   "source": [
    "last5[\"AwayAbbr\"] = last5"
   ]
  }
 ],
 "metadata": {
  "kernelspec": {
   "display_name": "Python 3",
   "language": "python",
   "name": "python3"
  },
  "language_info": {
   "codemirror_mode": {
    "name": "ipython",
    "version": 3
   },
   "file_extension": ".py",
   "mimetype": "text/x-python",
   "name": "python",
   "nbconvert_exporter": "python",
   "pygments_lexer": "ipython3",
   "version": "3.9.5"
  },
  "latex_envs": {
   "LaTeX_envs_menu_present": true,
   "autoclose": false,
   "autocomplete": true,
   "bibliofile": "biblio.bib",
   "cite_by": "apalike",
   "current_citInitial": 1,
   "eqLabelWithNumbers": true,
   "eqNumInitial": 1,
   "hotkeys": {
    "equation": "Ctrl-E",
    "itemize": "Ctrl-I"
   },
   "labels_anchors": false,
   "latex_user_defs": false,
   "report_style_numbering": false,
   "user_envs_cfg": false
  },
  "toc": {
   "base_numbering": 1,
   "nav_menu": {},
   "number_sections": true,
   "sideBar": true,
   "skip_h1_title": false,
   "title_cell": "Table of Contents",
   "title_sidebar": "Contents",
   "toc_cell": false,
   "toc_position": {},
   "toc_section_display": true,
   "toc_window_display": false
  }
 },
 "nbformat": 4,
 "nbformat_minor": 5
}
